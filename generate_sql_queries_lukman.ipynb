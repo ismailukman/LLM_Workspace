{
  "cells": [
    {
      "cell_type": "markdown",
      "metadata": {
        "id": "view-in-github",
        "colab_type": "text"
      },
      "source": [
        "<a href=\"https://colab.research.google.com/github/ismailukman/LLM_Workspace/blob/master/generate_sql_queries_lukman.ipynb\" target=\"_parent\"><img src=\"https://colab.research.google.com/assets/colab-badge.svg\" alt=\"Open In Colab\"/></a>"
      ]
    },
    {
      "cell_type": "markdown",
      "metadata": {
        "id": "CwCj7apJf-3p"
      },
      "source": [
        "# SQL Query Generator 🤖🧑🏻‍💻\n",
        "This notebook demonstrates the ability to generate SQL queries from a given natural language question. The notebook is divided into two parts:\n",
        "1. **Data Generation**: This section generates fake CRM data and stores it in a SQL database.\n",
        "2. **Query Generation**: This section generates SQL queries from natural language questions.\n",
        "\n",
        "## Data Generation\n",
        "The following code generates fake CRM data for a second hand car market and stores it in a SQL database. The data is generated using the [Faker](https://faker.readthedocs.io/en/master/) library."
      ]
    },
    {
      "cell_type": "code",
      "source": [
        "# !pip install faker\n",
        "# !pip install faker_vehicle\n",
        "# !pip install sqlalchemy\n",
        "# !pip install pyodbc\n",
        "# !pip install pymysql\n",
        "# !pip install mysql-connector-python\n",
        "# !brew install mysql\n",
        "# !brew services start mysql\n",
        "# !mysql_secure_installation\n",
        "# !brew install --cask mysqlworkbench"
      ],
      "metadata": {
        "id": "YkT5Npo7ZVL3"
      },
      "execution_count": 20,
      "outputs": []
    },
    {
      "cell_type": "code",
      "source": [],
      "metadata": {
        "id": "-d9Id6uUsfHN"
      },
      "execution_count": null,
      "outputs": []
    },
    {
      "cell_type": "code",
      "source": [
        "from faker import Faker\n",
        "from faker_vehicle import VehicleProvider\n",
        "import pandas as pd\n",
        "from sqlalchemy import create_engine, text\n",
        "import mysql.connector\n",
        "import pyodbc\n",
        "import pymysql\n",
        "import os"
      ],
      "metadata": {
        "id": "6e3h4ddzZXPX"
      },
      "execution_count": 21,
      "outputs": []
    },
    {
      "cell_type": "code",
      "source": [
        "# Mac Setup https://gist.github.com/Foadsf/b351fe7686de19a4c91d3e0b4c91080a\n",
        "# !brew install mysql\n",
        "# !brew services start mysql\n",
        "# !mysql_secure_installation\n",
        "# !brew install --cask mysqlworkbench"
      ],
      "metadata": {
        "id": "JzuqJ5wiZXSS"
      },
      "execution_count": null,
      "outputs": []
    },
    {
      "cell_type": "code",
      "source": [
        "engine = create_engine('sqlite://', echo=False) # in memory sqlite\n"
      ],
      "metadata": {
        "id": "2qJfX2EHRnv4"
      },
      "execution_count": 32,
      "outputs": []
    },
    {
      "cell_type": "code",
      "execution_count": null,
      "metadata": {
        "cell_id": "79994b6168374daaaa40d9206e4efede",
        "deepnote_cell_type": "code",
        "deepnote_to_be_reexecuted": false,
        "execution_millis": 106,
        "execution_start": 1684266200758,
        "source_hash": "5ef407a3",
        "id": "SNY-u2S9f-3r"
      },
      "outputs": [],
      "source": [
        "server = 'llm-lukman.database.windows.net'\n",
        "database = 'LukmanNLPSQL'\n",
        "username = 'lukman'\n",
        "password = 'Nlp@12345'\n",
        "driver = '{ODBC Driver 18 for SQL Server}'\n",
        "\n",
        "# server = os.environ['SQL_DATABASE_HOST']\n",
        "# database = os.environ['SQL_DATABASE_NAME']\n",
        "# username = os.environ['SQL_DATABASE_USER']\n",
        "# password = os.environ['SQL_DATABASE_PWD']\n",
        "# driver = '{ODBC Driver 17 for SQL Server}'\n",
        "\n",
        "# Create a connection string\n",
        "connection_string = f\"DRIVER={driver};SERVER={server};DATABASE={database};UID={username};PWD={password}\"\n",
        "# connection_string = f\"Driver={driver};Server=tcp:llm-lukman.database.windows.net,1433;Database=LukmanNLPSQL;Uid=lukman;Pwd={Nlp@12345};Encrypt=yes;TrustServerCertificate=no;Connection Timeout=30;\"\n",
        "\n",
        "# use sqlalchemy to create a connection to the database\n",
        "engine = create_engine(f\"mssql+pyodbc:///?odbc_connect={connection_string}\")"
      ]
    },
    {
      "cell_type": "code",
      "execution_count": 36,
      "metadata": {
        "cell_id": "07ba78e112f14dfebca60cc5532edaf0",
        "deepnote_cell_type": "code",
        "deepnote_to_be_reexecuted": false,
        "execution_millis": 6077,
        "execution_start": 1684260786032,
        "source_hash": "19b5321e",
        "id": "3T98g5w_f-3s",
        "outputId": "b77978b2-f5f0-4871-b182-8f43f51eb862",
        "colab": {
          "base_uri": "https://localhost:8080/"
        }
      },
      "outputs": [
        {
          "output_type": "execute_result",
          "data": {
            "text/plain": [
              "10000"
            ]
          },
          "metadata": {},
          "execution_count": 36
        }
      ],
      "source": [
        "# Create a Faker instance for Belgium\n",
        "fake = Faker('nl_BE')\n",
        "fake.add_provider(VehicleProvider)\n",
        "\n",
        "def generate_customer_data(n):\n",
        "    \"\"\"Generate n rows of fake customer data.\"\"\"\n",
        "    data = []\n",
        "    for _ in range(n):\n",
        "        data.append([fake.unique.random_number(digits=5),\n",
        "                     fake.first_name(),\n",
        "                     fake.last_name(),\n",
        "                     fake.email(),\n",
        "                     fake.phone_number(),\n",
        "                     fake.street_address(),\n",
        "                     fake.city(),\n",
        "                     fake.postcode(),\n",
        "                     'Belgium'])\n",
        "    return data\n",
        "\n",
        "\n",
        "# Generate 10K rows of data\n",
        "data = generate_customer_data(10000)\n",
        "\n",
        "# Create a pandas DataFrame\n",
        "df = pd.DataFrame(data, columns=['CustomerID', 'FirstName', 'LastName', 'Email', 'PhoneNumber', 'Address', 'City', 'PostalCode', 'Country'])\n",
        "\n",
        "df.to_sql('customers', con=engine, if_exists='replace', index=False)\n",
        "# conn.close()\n",
        "\n",
        "# Save the data from dataframe to SQL Server, create a connection to the database\n",
        "# with engine.connect() as conn:\n",
        "#     df.to_sql('customers', conn, if_exists='replace', index=False)"
      ]
    },
    {
      "cell_type": "code",
      "execution_count": 37,
      "metadata": {
        "id": "xMxvbAkyf-3s"
      },
      "outputs": [],
      "source": [
        "# Now let's generate a table of 100 cars: productID, brand, model, year, price\n",
        "fake.unique.clear()\n",
        "\n",
        "def generate_product_data(n):\n",
        "    \"\"\"Generate n rows of fake product data.\"\"\"\n",
        "    data = []\n",
        "    for _ in range(n):\n",
        "        vehicle = fake.vehicle_object()\n",
        "        data.append([\n",
        "            fake.unique.random_number(digits=5),\n",
        "            vehicle['Make'],\n",
        "            vehicle['Model'],\n",
        "            vehicle['Year'],\n",
        "            fake.pydecimal(left_digits=4, right_digits=2, positive=True, min_value=100, max_value=1000)\n",
        "        ])\n",
        "    return data\n",
        "\n",
        "# Generate 100 rows of data\n",
        "data = generate_product_data(100)\n",
        "\n",
        "# Convert the 'Price' column to string to avoid 'decimal.Decimal' issue\n",
        "for row in data:\n",
        "    row[4] = str(row[4])\n",
        "\n",
        "# Store in the database\n",
        "df = pd.DataFrame(data, columns=['ProductID', 'Brand', 'Model', 'Year', 'Price'])\n",
        "\n",
        "with engine.connect() as conn:\n",
        "    df.to_sql('cars', conn, if_exists='replace', index=False)\n"
      ]
    },
    {
      "cell_type": "code",
      "execution_count": 39,
      "metadata": {
        "id": "WH1Lntzvf-3t",
        "colab": {
          "base_uri": "https://localhost:8080/",
          "height": 391
        },
        "outputId": "ad042a5e-9301-4f03-b1fe-b4662f6e12ca"
      },
      "outputs": [
        {
          "output_type": "error",
          "ename": "AttributeError",
          "evalue": "ignored",
          "traceback": [
            "\u001b[0;31m---------------------------------------------------------------------------\u001b[0m",
            "\u001b[0;31mAttributeError\u001b[0m                            Traceback (most recent call last)",
            "\u001b[0;32m<ipython-input-39-a9a04e5bded6>\u001b[0m in \u001b[0;36m<cell line: 25>\u001b[0;34m()\u001b[0m\n\u001b[1;32m     23\u001b[0m \u001b[0;34m\u001b[0m\u001b[0m\n\u001b[1;32m     24\u001b[0m \u001b[0;31m# Generate 10K rows of data\u001b[0m\u001b[0;34m\u001b[0m\u001b[0;34m\u001b[0m\u001b[0m\n\u001b[0;32m---> 25\u001b[0;31m \u001b[0mdata\u001b[0m \u001b[0;34m=\u001b[0m \u001b[0mgenerate_sales_data\u001b[0m\u001b[0;34m(\u001b[0m\u001b[0;36m10000\u001b[0m\u001b[0;34m)\u001b[0m\u001b[0;34m\u001b[0m\u001b[0;34m\u001b[0m\u001b[0m\n\u001b[0m\u001b[1;32m     26\u001b[0m \u001b[0;34m\u001b[0m\u001b[0m\n\u001b[1;32m     27\u001b[0m \u001b[0;31m# Store in the database\u001b[0m\u001b[0;34m\u001b[0m\u001b[0;34m\u001b[0m\u001b[0m\n",
            "\u001b[0;32m<ipython-input-39-a9a04e5bded6>\u001b[0m in \u001b[0;36mgenerate_sales_data\u001b[0;34m(n)\u001b[0m\n\u001b[1;32m      4\u001b[0m \u001b[0;32mdef\u001b[0m \u001b[0mgenerate_sales_data\u001b[0m\u001b[0;34m(\u001b[0m\u001b[0mn\u001b[0m\u001b[0;34m)\u001b[0m\u001b[0;34m:\u001b[0m\u001b[0;34m\u001b[0m\u001b[0;34m\u001b[0m\u001b[0m\n\u001b[1;32m      5\u001b[0m     \u001b[0;34m\"\"\"Generate n rows of fake sales data.\"\"\"\u001b[0m\u001b[0;34m\u001b[0m\u001b[0;34m\u001b[0m\u001b[0m\n\u001b[0;32m----> 6\u001b[0;31m     \u001b[0mcars\u001b[0m \u001b[0;34m=\u001b[0m \u001b[0mpd\u001b[0m\u001b[0;34m.\u001b[0m\u001b[0mread_sql\u001b[0m\u001b[0;34m(\u001b[0m\u001b[0;34m'SELECT ProductID, Price FROM cars'\u001b[0m\u001b[0;34m,\u001b[0m \u001b[0mengine\u001b[0m\u001b[0;34m)\u001b[0m\u001b[0;34m\u001b[0m\u001b[0;34m\u001b[0m\u001b[0m\n\u001b[0m\u001b[1;32m      7\u001b[0m     \u001b[0mcustomer_ids\u001b[0m \u001b[0;34m=\u001b[0m \u001b[0mpd\u001b[0m\u001b[0;34m.\u001b[0m\u001b[0mread_sql\u001b[0m\u001b[0;34m(\u001b[0m\u001b[0;34m'SELECT CustomerID FROM customers'\u001b[0m\u001b[0;34m,\u001b[0m \u001b[0mengine\u001b[0m\u001b[0;34m)\u001b[0m\u001b[0;34m\u001b[0m\u001b[0;34m\u001b[0m\u001b[0m\n\u001b[1;32m      8\u001b[0m     \u001b[0mdata\u001b[0m \u001b[0;34m=\u001b[0m \u001b[0;34m[\u001b[0m\u001b[0;34m]\u001b[0m\u001b[0;34m\u001b[0m\u001b[0;34m\u001b[0m\u001b[0m\n",
            "\u001b[0;32m/usr/local/lib/python3.10/dist-packages/pandas/io/sql.py\u001b[0m in \u001b[0;36mread_sql\u001b[0;34m(sql, con, index_col, coerce_float, params, parse_dates, columns, chunksize)\u001b[0m\n\u001b[1;32m    588\u001b[0m         )\n\u001b[1;32m    589\u001b[0m     \u001b[0;32melse\u001b[0m\u001b[0;34m:\u001b[0m\u001b[0;34m\u001b[0m\u001b[0;34m\u001b[0m\u001b[0m\n\u001b[0;32m--> 590\u001b[0;31m         return pandas_sql.read_query(\n\u001b[0m\u001b[1;32m    591\u001b[0m             \u001b[0msql\u001b[0m\u001b[0;34m,\u001b[0m\u001b[0;34m\u001b[0m\u001b[0;34m\u001b[0m\u001b[0m\n\u001b[1;32m    592\u001b[0m             \u001b[0mindex_col\u001b[0m\u001b[0;34m=\u001b[0m\u001b[0mindex_col\u001b[0m\u001b[0;34m,\u001b[0m\u001b[0;34m\u001b[0m\u001b[0;34m\u001b[0m\u001b[0m\n",
            "\u001b[0;32m/usr/local/lib/python3.10/dist-packages/pandas/io/sql.py\u001b[0m in \u001b[0;36mread_query\u001b[0;34m(self, sql, index_col, coerce_float, parse_dates, params, chunksize, dtype)\u001b[0m\n\u001b[1;32m   1558\u001b[0m         \u001b[0margs\u001b[0m \u001b[0;34m=\u001b[0m \u001b[0m_convert_params\u001b[0m\u001b[0;34m(\u001b[0m\u001b[0msql\u001b[0m\u001b[0;34m,\u001b[0m \u001b[0mparams\u001b[0m\u001b[0;34m)\u001b[0m\u001b[0;34m\u001b[0m\u001b[0;34m\u001b[0m\u001b[0m\n\u001b[1;32m   1559\u001b[0m \u001b[0;34m\u001b[0m\u001b[0m\n\u001b[0;32m-> 1560\u001b[0;31m         \u001b[0mresult\u001b[0m \u001b[0;34m=\u001b[0m \u001b[0mself\u001b[0m\u001b[0;34m.\u001b[0m\u001b[0mexecute\u001b[0m\u001b[0;34m(\u001b[0m\u001b[0;34m*\u001b[0m\u001b[0margs\u001b[0m\u001b[0;34m)\u001b[0m\u001b[0;34m\u001b[0m\u001b[0;34m\u001b[0m\u001b[0m\n\u001b[0m\u001b[1;32m   1561\u001b[0m         \u001b[0mcolumns\u001b[0m \u001b[0;34m=\u001b[0m \u001b[0mresult\u001b[0m\u001b[0;34m.\u001b[0m\u001b[0mkeys\u001b[0m\u001b[0;34m(\u001b[0m\u001b[0;34m)\u001b[0m\u001b[0;34m\u001b[0m\u001b[0;34m\u001b[0m\u001b[0m\n\u001b[1;32m   1562\u001b[0m \u001b[0;34m\u001b[0m\u001b[0m\n",
            "\u001b[0;32m/usr/local/lib/python3.10/dist-packages/pandas/io/sql.py\u001b[0m in \u001b[0;36mexecute\u001b[0;34m(self, *args, **kwargs)\u001b[0m\n\u001b[1;32m   1403\u001b[0m     \u001b[0;32mdef\u001b[0m \u001b[0mexecute\u001b[0m\u001b[0;34m(\u001b[0m\u001b[0mself\u001b[0m\u001b[0;34m,\u001b[0m \u001b[0;34m*\u001b[0m\u001b[0margs\u001b[0m\u001b[0;34m,\u001b[0m \u001b[0;34m**\u001b[0m\u001b[0mkwargs\u001b[0m\u001b[0;34m)\u001b[0m\u001b[0;34m:\u001b[0m\u001b[0;34m\u001b[0m\u001b[0;34m\u001b[0m\u001b[0m\n\u001b[1;32m   1404\u001b[0m         \u001b[0;34m\"\"\"Simple passthrough to SQLAlchemy connectable\"\"\"\u001b[0m\u001b[0;34m\u001b[0m\u001b[0;34m\u001b[0m\u001b[0m\n\u001b[0;32m-> 1405\u001b[0;31m         \u001b[0;32mreturn\u001b[0m \u001b[0mself\u001b[0m\u001b[0;34m.\u001b[0m\u001b[0mconnectable\u001b[0m\u001b[0;34m.\u001b[0m\u001b[0mexecution_options\u001b[0m\u001b[0;34m(\u001b[0m\u001b[0;34m)\u001b[0m\u001b[0;34m.\u001b[0m\u001b[0mexecute\u001b[0m\u001b[0;34m(\u001b[0m\u001b[0;34m*\u001b[0m\u001b[0margs\u001b[0m\u001b[0;34m,\u001b[0m \u001b[0;34m**\u001b[0m\u001b[0mkwargs\u001b[0m\u001b[0;34m)\u001b[0m\u001b[0;34m\u001b[0m\u001b[0;34m\u001b[0m\u001b[0m\n\u001b[0m\u001b[1;32m   1406\u001b[0m \u001b[0;34m\u001b[0m\u001b[0m\n\u001b[1;32m   1407\u001b[0m     def read_table(\n",
            "\u001b[0;31mAttributeError\u001b[0m: 'OptionEngine' object has no attribute 'execute'"
          ]
        }
      ],
      "source": [
        "# Now let's finally generate a table of 100K carsales data: SalesID, CustomerID, ProductID, Quantity, Price, DiscountPercent, Total, SalesAgent, Date\n",
        "fake.unique.clear()\n",
        "\n",
        "def generate_sales_data(n):\n",
        "    \"\"\"Generate n rows of fake sales data.\"\"\"\n",
        "    cars = pd.read_sql('SELECT ProductID, Price FROM cars', engine)\n",
        "    customer_ids = pd.read_sql('SELECT CustomerID FROM customers', engine)\n",
        "    data = []\n",
        "    for _ in range(n):\n",
        "        car = cars.sample().iloc[0]\n",
        "        quantity = fake.random_int(min=1, max=10)\n",
        "        discount = fake.random_int(min=0, max=10)\n",
        "        data.append([fake.unique.random_number(digits=5),\n",
        "                     customer_ids.sample().iloc[0]['CustomerID'],\n",
        "                     car['ProductID'],\n",
        "                     quantity,\n",
        "                     car['Price'],\n",
        "                     fake.random_int(min=0, max=10),\n",
        "                     float(car['Price']) * quantity * (1 - discount/100),\n",
        "                     fake.name(),\n",
        "                     fake.date_between(start_date='-1y', end_date='today')])\n",
        "    return data\n",
        "\n",
        "# Generate 10K rows of data\n",
        "data = generate_sales_data(10000)\n",
        "\n",
        "# Store in the database\n",
        "df = pd.DataFrame(data, columns=['SalesID', 'CustomerID', 'ProductID', 'Quantity', 'Price', 'DiscountPercent', 'Total', 'SalesAgent', 'Date'])\n",
        "with engine.connect() as conn:\n",
        "    df.to_sql('carsales', conn, if_exists='replace', index=False)"
      ]
    },
    {
      "cell_type": "markdown",
      "metadata": {
        "id": "2cBy_pOLf-3t"
      },
      "source": [
        "### Let's write some SQL queries to get some insights from the data\n",
        "After this we will use langchain to visualize the data and generate SQL queries from natural language questions."
      ]
    },
    {
      "cell_type": "code",
      "execution_count": 28,
      "metadata": {
        "id": "usHr8sxzf-3t",
        "outputId": "92b7e80a-d104-4e43-801b-c728f684f2bd",
        "colab": {
          "base_uri": "https://localhost:8080/",
          "height": 443
        }
      },
      "outputs": [
        {
          "output_type": "error",
          "ename": "ObjectNotExecutableError",
          "evalue": "ignored",
          "traceback": [
            "\u001b[0;31m---------------------------------------------------------------------------\u001b[0m",
            "\u001b[0;31mAttributeError\u001b[0m                            Traceback (most recent call last)",
            "\u001b[0;32m/usr/local/lib/python3.10/dist-packages/sqlalchemy/engine/base.py\u001b[0m in \u001b[0;36mexecute\u001b[0;34m(self, statement, parameters, execution_options)\u001b[0m\n\u001b[1;32m   1411\u001b[0m         \u001b[0;32mtry\u001b[0m\u001b[0;34m:\u001b[0m\u001b[0;34m\u001b[0m\u001b[0;34m\u001b[0m\u001b[0m\n\u001b[0;32m-> 1412\u001b[0;31m             \u001b[0mmeth\u001b[0m \u001b[0;34m=\u001b[0m \u001b[0mstatement\u001b[0m\u001b[0;34m.\u001b[0m\u001b[0m_execute_on_connection\u001b[0m\u001b[0;34m\u001b[0m\u001b[0;34m\u001b[0m\u001b[0m\n\u001b[0m\u001b[1;32m   1413\u001b[0m         \u001b[0;32mexcept\u001b[0m \u001b[0mAttributeError\u001b[0m \u001b[0;32mas\u001b[0m \u001b[0merr\u001b[0m\u001b[0;34m:\u001b[0m\u001b[0;34m\u001b[0m\u001b[0;34m\u001b[0m\u001b[0m\n",
            "\u001b[0;31mAttributeError\u001b[0m: 'str' object has no attribute '_execute_on_connection'",
            "\nThe above exception was the direct cause of the following exception:\n",
            "\u001b[0;31mObjectNotExecutableError\u001b[0m                  Traceback (most recent call last)",
            "\u001b[0;32m<ipython-input-28-ff0adcf7d54d>\u001b[0m in \u001b[0;36m<cell line: 3>\u001b[0;34m()\u001b[0m\n\u001b[1;32m      1\u001b[0m \u001b[0mconn\u001b[0m \u001b[0;34m=\u001b[0m \u001b[0mengine\u001b[0m\u001b[0;34m.\u001b[0m\u001b[0mconnect\u001b[0m\u001b[0;34m(\u001b[0m\u001b[0;34m)\u001b[0m\u001b[0;34m\u001b[0m\u001b[0;34m\u001b[0m\u001b[0m\n\u001b[1;32m      2\u001b[0m \u001b[0;31m# Display the first 5 rows of the customers table\u001b[0m\u001b[0;34m\u001b[0m\u001b[0;34m\u001b[0m\u001b[0m\n\u001b[0;32m----> 3\u001b[0;31m \u001b[0mprint\u001b[0m\u001b[0;34m(\u001b[0m\u001b[0mpd\u001b[0m\u001b[0;34m.\u001b[0m\u001b[0mread_sql\u001b[0m\u001b[0;34m(\u001b[0m\u001b[0;34m'SELECT TOP 5 * FROM customers'\u001b[0m\u001b[0;34m,\u001b[0m \u001b[0mconn\u001b[0m\u001b[0;34m)\u001b[0m\u001b[0;34m.\u001b[0m\u001b[0mto_markdown\u001b[0m\u001b[0;34m(\u001b[0m\u001b[0;34m)\u001b[0m\u001b[0;34m)\u001b[0m\u001b[0;34m\u001b[0m\u001b[0;34m\u001b[0m\u001b[0m\n\u001b[0m",
            "\u001b[0;32m/usr/local/lib/python3.10/dist-packages/pandas/io/sql.py\u001b[0m in \u001b[0;36mread_sql\u001b[0;34m(sql, con, index_col, coerce_float, params, parse_dates, columns, chunksize)\u001b[0m\n\u001b[1;32m    588\u001b[0m         )\n\u001b[1;32m    589\u001b[0m     \u001b[0;32melse\u001b[0m\u001b[0;34m:\u001b[0m\u001b[0;34m\u001b[0m\u001b[0;34m\u001b[0m\u001b[0m\n\u001b[0;32m--> 590\u001b[0;31m         return pandas_sql.read_query(\n\u001b[0m\u001b[1;32m    591\u001b[0m             \u001b[0msql\u001b[0m\u001b[0;34m,\u001b[0m\u001b[0;34m\u001b[0m\u001b[0;34m\u001b[0m\u001b[0m\n\u001b[1;32m    592\u001b[0m             \u001b[0mindex_col\u001b[0m\u001b[0;34m=\u001b[0m\u001b[0mindex_col\u001b[0m\u001b[0;34m,\u001b[0m\u001b[0;34m\u001b[0m\u001b[0;34m\u001b[0m\u001b[0m\n",
            "\u001b[0;32m/usr/local/lib/python3.10/dist-packages/pandas/io/sql.py\u001b[0m in \u001b[0;36mread_query\u001b[0;34m(self, sql, index_col, coerce_float, parse_dates, params, chunksize, dtype)\u001b[0m\n\u001b[1;32m   1558\u001b[0m         \u001b[0margs\u001b[0m \u001b[0;34m=\u001b[0m \u001b[0m_convert_params\u001b[0m\u001b[0;34m(\u001b[0m\u001b[0msql\u001b[0m\u001b[0;34m,\u001b[0m \u001b[0mparams\u001b[0m\u001b[0;34m)\u001b[0m\u001b[0;34m\u001b[0m\u001b[0;34m\u001b[0m\u001b[0m\n\u001b[1;32m   1559\u001b[0m \u001b[0;34m\u001b[0m\u001b[0m\n\u001b[0;32m-> 1560\u001b[0;31m         \u001b[0mresult\u001b[0m \u001b[0;34m=\u001b[0m \u001b[0mself\u001b[0m\u001b[0;34m.\u001b[0m\u001b[0mexecute\u001b[0m\u001b[0;34m(\u001b[0m\u001b[0;34m*\u001b[0m\u001b[0margs\u001b[0m\u001b[0;34m)\u001b[0m\u001b[0;34m\u001b[0m\u001b[0;34m\u001b[0m\u001b[0m\n\u001b[0m\u001b[1;32m   1561\u001b[0m         \u001b[0mcolumns\u001b[0m \u001b[0;34m=\u001b[0m \u001b[0mresult\u001b[0m\u001b[0;34m.\u001b[0m\u001b[0mkeys\u001b[0m\u001b[0;34m(\u001b[0m\u001b[0;34m)\u001b[0m\u001b[0;34m\u001b[0m\u001b[0;34m\u001b[0m\u001b[0m\n\u001b[1;32m   1562\u001b[0m \u001b[0;34m\u001b[0m\u001b[0m\n",
            "\u001b[0;32m/usr/local/lib/python3.10/dist-packages/pandas/io/sql.py\u001b[0m in \u001b[0;36mexecute\u001b[0;34m(self, *args, **kwargs)\u001b[0m\n\u001b[1;32m   1403\u001b[0m     \u001b[0;32mdef\u001b[0m \u001b[0mexecute\u001b[0m\u001b[0;34m(\u001b[0m\u001b[0mself\u001b[0m\u001b[0;34m,\u001b[0m \u001b[0;34m*\u001b[0m\u001b[0margs\u001b[0m\u001b[0;34m,\u001b[0m \u001b[0;34m**\u001b[0m\u001b[0mkwargs\u001b[0m\u001b[0;34m)\u001b[0m\u001b[0;34m:\u001b[0m\u001b[0;34m\u001b[0m\u001b[0;34m\u001b[0m\u001b[0m\n\u001b[1;32m   1404\u001b[0m         \u001b[0;34m\"\"\"Simple passthrough to SQLAlchemy connectable\"\"\"\u001b[0m\u001b[0;34m\u001b[0m\u001b[0;34m\u001b[0m\u001b[0m\n\u001b[0;32m-> 1405\u001b[0;31m         \u001b[0;32mreturn\u001b[0m \u001b[0mself\u001b[0m\u001b[0;34m.\u001b[0m\u001b[0mconnectable\u001b[0m\u001b[0;34m.\u001b[0m\u001b[0mexecution_options\u001b[0m\u001b[0;34m(\u001b[0m\u001b[0;34m)\u001b[0m\u001b[0;34m.\u001b[0m\u001b[0mexecute\u001b[0m\u001b[0;34m(\u001b[0m\u001b[0;34m*\u001b[0m\u001b[0margs\u001b[0m\u001b[0;34m,\u001b[0m \u001b[0;34m**\u001b[0m\u001b[0mkwargs\u001b[0m\u001b[0;34m)\u001b[0m\u001b[0;34m\u001b[0m\u001b[0;34m\u001b[0m\u001b[0m\n\u001b[0m\u001b[1;32m   1406\u001b[0m \u001b[0;34m\u001b[0m\u001b[0m\n\u001b[1;32m   1407\u001b[0m     def read_table(\n",
            "\u001b[0;32m/usr/local/lib/python3.10/dist-packages/sqlalchemy/engine/base.py\u001b[0m in \u001b[0;36mexecute\u001b[0;34m(self, statement, parameters, execution_options)\u001b[0m\n\u001b[1;32m   1412\u001b[0m             \u001b[0mmeth\u001b[0m \u001b[0;34m=\u001b[0m \u001b[0mstatement\u001b[0m\u001b[0;34m.\u001b[0m\u001b[0m_execute_on_connection\u001b[0m\u001b[0;34m\u001b[0m\u001b[0;34m\u001b[0m\u001b[0m\n\u001b[1;32m   1413\u001b[0m         \u001b[0;32mexcept\u001b[0m \u001b[0mAttributeError\u001b[0m \u001b[0;32mas\u001b[0m \u001b[0merr\u001b[0m\u001b[0;34m:\u001b[0m\u001b[0;34m\u001b[0m\u001b[0;34m\u001b[0m\u001b[0m\n\u001b[0;32m-> 1414\u001b[0;31m             \u001b[0;32mraise\u001b[0m \u001b[0mexc\u001b[0m\u001b[0;34m.\u001b[0m\u001b[0mObjectNotExecutableError\u001b[0m\u001b[0;34m(\u001b[0m\u001b[0mstatement\u001b[0m\u001b[0;34m)\u001b[0m \u001b[0;32mfrom\u001b[0m \u001b[0merr\u001b[0m\u001b[0;34m\u001b[0m\u001b[0;34m\u001b[0m\u001b[0m\n\u001b[0m\u001b[1;32m   1415\u001b[0m         \u001b[0;32melse\u001b[0m\u001b[0;34m:\u001b[0m\u001b[0;34m\u001b[0m\u001b[0;34m\u001b[0m\u001b[0m\n\u001b[1;32m   1416\u001b[0m             return meth(\n",
            "\u001b[0;31mObjectNotExecutableError\u001b[0m: Not an executable object: 'SELECT TOP 5 * FROM customers'"
          ]
        }
      ],
      "source": [
        "conn = engine.connect()\n",
        "# Display the first 5 rows of the customers table\n",
        "print(pd.read_sql('SELECT TOP 5 * FROM customers', conn).to_markdown())"
      ]
    },
    {
      "cell_type": "code",
      "execution_count": null,
      "metadata": {
        "id": "1HSUXzIRf-3u",
        "outputId": "3eaa40b1-d3d7-4f1c-bfdd-3715b4c8acce"
      },
      "outputs": [
        {
          "name": "stdout",
          "output_type": "stream",
          "text": [
            "|    |   ProductID | Brand         | Model                |   Year |   Price |\n",
            "|---:|------------:|:--------------|:---------------------|-------:|--------:|\n",
            "|  0 |       22195 | Volvo         | XC90                 |   2018 | 7268.46 |\n",
            "|  1 |        3045 | Lexus         | LS                   |   2012 | 5610.41 |\n",
            "|  2 |       12960 | Dodge         | Ram 2500 Regular Cab |   2003 | 7395.68 |\n",
            "|  3 |       36588 | Mercedes-Benz | 500 E                |   1992 | 2084.09 |\n",
            "|  4 |       28661 | Hyundai       | Elantra              |   2020 | 5816.77 |\n"
          ]
        }
      ],
      "source": [
        "print(pd.read_sql('SELECT TOP 5 * FROM cars', conn).to_markdown())"
      ]
    },
    {
      "cell_type": "code",
      "execution_count": null,
      "metadata": {
        "id": "ZHMyMrDSf-3u",
        "outputId": "db1edd09-e904-4c58-c894-740cec97ed3d"
      },
      "outputs": [
        {
          "name": "stdout",
          "output_type": "stream",
          "text": [
            "|    |   SalesID |   CustomerID |   ProductID |   Quantity |   Price |   DiscountPercent |    Total | SalesAgent          | Date       |\n",
            "|---:|----------:|-------------:|------------:|-----------:|--------:|------------------:|---------:|:--------------------|:-----------|\n",
            "|  0 |     90857 |        95329 |       52580 |          3 | 7371.89 |                 8 | 19904.1  | Loes Maris          | 2022-06-13 |\n",
            "|  1 |      3678 |        82371 |       37902 |          2 | 4008.07 |                 6 |  7214.53 | Tina Roelandt       | 2022-12-10 |\n",
            "|  2 |     93435 |        12878 |        3045 |          3 | 5610.41 |                 4 | 16158    | Jens Sterckx        | 2023-02-16 |\n",
            "|  3 |      9868 |        93372 |       10953 |          6 | 6741.73 |                10 | 38023.4  | Annette Vermeulen   | 2023-03-10 |\n",
            "|  4 |     59970 |        17302 |       74690 |          5 | 7901.77 |                 8 | 35953.1  | Amber Claes De Laet | 2023-04-11 |\n"
          ]
        }
      ],
      "source": [
        "# Display the first 5 rows of the sales table\n",
        "conn = engine.connect()\n",
        "print(pd.read_sql('SELECT TOP 5 * FROM carsales', conn).to_markdown())"
      ]
    },
    {
      "cell_type": "code",
      "execution_count": null,
      "metadata": {
        "id": "MKs2hjrMf-3u",
        "outputId": "18f6bc15-151a-4264-f60b-c866060eec92"
      },
      "outputs": [
        {
          "name": "stdout",
          "output_type": "stream",
          "text": [
            "Most expensive car:\n",
            "   ProductID Brand Model  Year    Price\n",
            "0      32626  Audi    A8  1997  9849.09\n",
            "\n",
            "City with most sales:\n",
            "       City      Revenue\n",
            "0  Houwaart  638551.0278\n",
            "\n",
            "Best sales agent:\n",
            "     SalesAgent      Revenue\n",
            "0  Bart Peeters  156777.7753\n",
            "\n",
            "Most popular car:\n",
            "   Brand                    Model  Quantity\n",
            "0  Dodge  Grand Caravan Passenger      1695\n"
          ]
        }
      ],
      "source": [
        "with engine.connect() as conn:\n",
        "   # What is the most expensive car?\n",
        "   print('Most expensive car:')\n",
        "   print(pd.read_sql('SELECT * FROM cars ORDER BY Price DESC', conn).head(1))\n",
        "\n",
        "   # What city has the most sales renenue?\n",
        "   print('\\nCity with most sales:')\n",
        "   query = '''\n",
        "   SELECT TOP 1 City, SUM(Total) AS Revenue\n",
        "   FROM carsales\n",
        "   INNER JOIN customers ON carsales.CustomerID = customers.CustomerID\n",
        "   GROUP BY City\n",
        "   ORDER BY Revenue DESC\n",
        "   '''\n",
        "   print(pd.read_sql(query, conn).head(1))\n",
        "\n",
        "   # Who is the best sales agent?\n",
        "   print('\\nBest sales agent:')\n",
        "   query = '''\n",
        "   SELECT SalesAgent, SUM(Total) AS Revenue\n",
        "   FROM carsales\n",
        "   GROUP BY SalesAgent\n",
        "   ORDER BY Revenue DESC\n",
        "   '''\n",
        "   print(pd.read_sql(query, conn).head(1))\n",
        "\n",
        "   # What is the most popular car?\n",
        "   print('\\nMost popular car:')\n",
        "   query = '''\n",
        "   SELECT Brand, Model, SUM(Quantity) AS Quantity\n",
        "   FROM carsales\n",
        "   INNER JOIN cars ON carsales.ProductID = cars.ProductID\n",
        "   GROUP BY Brand, Model\n",
        "   ORDER BY Quantity DESC\n",
        "   '''\n",
        "   print(pd.read_sql(query, conn).head(1))\n",
        "\n"
      ]
    },
    {
      "cell_type": "markdown",
      "metadata": {
        "id": "qiu8Hv_xf-3v"
      },
      "source": [
        "## Now let's use GPT to generate SQL queries from natural language questions ⬇️\n",
        "To make this work we do some things:\n",
        "1. We first check the database and find all the tables\n",
        "2. Then the system fetches 5 random rows from each table\n",
        "3. Then we use GPT to generate SQL queries from natural language questions, passing the table details and the rows as context\n",
        "4. Optionaly we add a function to parse the result and return it back in natual language"
      ]
    },
    {
      "cell_type": "code",
      "execution_count": null,
      "metadata": {
        "id": "_qIzgDr7f-3v"
      },
      "outputs": [],
      "source": [
        "import openai\n",
        "\n",
        "openai.api_key = os.environ['OPENAI_API_KEY']"
      ]
    },
    {
      "cell_type": "code",
      "execution_count": null,
      "metadata": {
        "id": "O9eQTmeZf-3v"
      },
      "outputs": [],
      "source": [
        "# Return the table names in the database\n",
        "def get_table_names():\n",
        "    with engine.connect() as conn:\n",
        "        query = '''\n",
        "        SELECT TABLE_NAME\n",
        "        FROM INFORMATION_SCHEMA.TABLES\n",
        "        WHERE TABLE_TYPE = 'BASE TABLE' AND TABLE_CATALOG='vectrix-demo'\n",
        "        '''\n",
        "        return pd.read_sql(query, conn)['TABLE_NAME'].tolist()\n",
        "\n",
        "\n",
        "# Get 5 random rows from a table and store them in a dataframe\n",
        "def get_random_rows(table, n=5):\n",
        "    with engine.connect() as conn:\n",
        "        query = f'SELECT TOP {n} * FROM {table} ORDER BY NEWID()'\n",
        "        return pd.read_sql(query, conn)\n",
        "\n",
        "\n",
        "# Call get_random_rows() for each table, and store the results as markdown in a list\n",
        "markdown = []\n",
        "for table in get_table_names():\n",
        "    markdown.append(f'### {table}')\n",
        "    markdown.append(get_random_rows(table).to_markdown())\n",
        "    markdown.append('\\n')\n",
        "\n",
        "# Join the markdown list into a single string\n",
        "table_definitions = '\\n'.join(markdown)\n",
        "table_definitions = table_definitions + '\\n---\\nReturn the TSQL Query for:'"
      ]
    },
    {
      "cell_type": "code",
      "execution_count": null,
      "metadata": {
        "id": "L4e52k8Ef-3v"
      },
      "outputs": [],
      "source": [
        "GPT_MODEL = \"gpt-3.5-turbo\"\n",
        "\n",
        "def generate_query(prompt: str, table_definitions: str):\n",
        "    \"\"\"Answers a query using GPT\"\"\"\n",
        "    system = \"You are an SQL generator that only returns TSQL sequel statements and no natural language. Given the table names, definitions and a prompt.\"\n",
        "    messages = [\n",
        "        {\"role\": \"system\", \"content\": system},\n",
        "        {\"role\": \"user\", \"content\": table_definitions+prompt}\n",
        "    ]\n",
        "    #print(messages)\n",
        "\n",
        "    response = openai.ChatCompletion.create(\n",
        "        model=GPT_MODEL,\n",
        "        messages=messages,\n",
        "        temperature=0\n",
        "    )\n",
        "\n",
        "    response_message = response[\"choices\"][0][\"message\"][\"content\"]\n",
        "    #print(response_message)\n",
        "\n",
        "    return response_message\n",
        "\n",
        "def parse_result_in_natural_language(prompt: str, result: str):\n",
        "    '''\n",
        "    Parses the result of a query into natural language\n",
        "    '''\n",
        "    completion = prompt + '\\n' + result\n",
        "    messages = [\n",
        "        {\"role\" : \"system\", \"content\" : \"You transalte the result of a query and a prompt into natural language.\"},\n",
        "        {\"role\": \"user\", \"content\": completion}\n",
        "    ]\n",
        "    response = openai.ChatCompletion.create(\n",
        "        model=GPT_MODEL,\n",
        "        messages = messages,\n",
        "        temperature=0\n",
        "    )\n",
        "    return response[\"choices\"][0][\"message\"][\"content\"]\n",
        "\n",
        "\n",
        "def run_query(prompt: str, return_natural_language: bool = False):\n",
        "    query = generate_query(prompt, table_definitions)\n",
        "    with engine.connect() as conn:\n",
        "        result =  pd.read_sql(query, conn).to_markdown()\n",
        "\n",
        "    if return_natural_language:\n",
        "        result = parse_result_in_natural_language(prompt, result)\n",
        "\n",
        "    return result\n"
      ]
    },
    {
      "cell_type": "markdown",
      "metadata": {
        "id": "VQoM074Cf-3v"
      },
      "source": [
        "## Let's try it out 🤗\n",
        "As you can see, when setting the function return_result to True, the system returns the result in natural language. This is done by parsing the result and replacing the column names with the column names in the question."
      ]
    },
    {
      "cell_type": "code",
      "execution_count": null,
      "metadata": {
        "id": "RGaJeemwf-3v",
        "outputId": "28ccef27-7d49-4b0d-e65e-01e890e78ce2"
      },
      "outputs": [
        {
          "name": "stdout",
          "output_type": "stream",
          "text": [
            "The most expensive car in the given data is an Audi A8 from the year 1997, which costs 9849.09.\n"
          ]
        }
      ],
      "source": [
        "print(run_query('What is the most expensive car?', return_natural_language=True))"
      ]
    },
    {
      "cell_type": "code",
      "execution_count": null,
      "metadata": {
        "id": "klJPewF-f-3v",
        "outputId": "cd012f83-a907-46dd-8b92-f14ec2ed86f5"
      },
      "outputs": [
        {
          "name": "stdout",
          "output_type": "stream",
          "text": [
            "|    | City     |   TotalRevenue |\n",
            "|---:|:---------|---------------:|\n",
            "|  0 | Houwaart |         638551 |\n"
          ]
        }
      ],
      "source": [
        "print(run_query('What city has the most sales revenue?'))"
      ]
    },
    {
      "cell_type": "code",
      "execution_count": null,
      "metadata": {
        "id": "2LY7oYzrf-3v",
        "outputId": "5910b220-f5b9-49ac-abbc-801b23a78f17"
      },
      "outputs": [
        {
          "name": "stdout",
          "output_type": "stream",
          "text": [
            "The best sales agent is Bart Peeters.\n"
          ]
        }
      ],
      "source": [
        "print(run_query('Who is the best sales agent ?', return_natural_language=True))"
      ]
    },
    {
      "cell_type": "code",
      "execution_count": null,
      "metadata": {
        "id": "EH-q3kU4f-3v",
        "outputId": "8546a7ee-683e-4e0f-89c8-975c30a60e75"
      },
      "outputs": [
        {
          "name": "stdout",
          "output_type": "stream",
          "text": [
            "|    | Brand   | Model                   |   TotalQuantity |\n",
            "|---:|:--------|:------------------------|----------------:|\n",
            "|  0 | Dodge   | Grand Caravan Passenger |            1695 |\n"
          ]
        }
      ],
      "source": [
        "print(run_query('What is the most popular car?'))"
      ]
    }
  ],
  "metadata": {
    "deepnote": {},
    "deepnote_execution_queue": [],
    "deepnote_notebook_id": "904895a1f7984c57b0abe32f19bd104e",
    "kernelspec": {
      "display_name": "Python 3",
      "language": "python",
      "name": "python3"
    },
    "language_info": {
      "codemirror_mode": {
        "name": "ipython",
        "version": 3
      },
      "file_extension": ".py",
      "mimetype": "text/x-python",
      "name": "python",
      "nbconvert_exporter": "python",
      "pygments_lexer": "ipython3",
      "version": "3.11.3"
    },
    "orig_nbformat": 2,
    "colab": {
      "provenance": [],
      "include_colab_link": true
    }
  },
  "nbformat": 4,
  "nbformat_minor": 0
}